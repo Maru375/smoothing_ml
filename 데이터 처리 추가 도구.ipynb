{
 "cells": [
  {
   "cell_type": "code",
   "id": "899284166d0cc91f",
   "metadata": {
    "ExecuteTime": {
     "end_time": "2024-04-30T07:57:12.857177Z",
     "start_time": "2024-04-30T07:57:10.504091Z"
    }
   },
   "source": [
    "%pip install influxdb_client"
   ],
   "outputs": [
    {
     "name": "stdout",
     "output_type": "stream",
     "text": [
      "Requirement already satisfied: influxdb_client in /home/nhnacademy/anaconda3/lib/python3.9/site-packages (1.42.0)\r\n",
      "Requirement already satisfied: reactivex>=4.0.4 in /home/nhnacademy/anaconda3/lib/python3.9/site-packages (from influxdb_client) (4.0.4)\r\n",
      "Requirement already satisfied: certifi>=14.05.14 in /home/nhnacademy/anaconda3/lib/python3.9/site-packages (from influxdb_client) (2024.2.2)\r\n",
      "Requirement already satisfied: python-dateutil>=2.5.3 in /home/nhnacademy/anaconda3/lib/python3.9/site-packages (from influxdb_client) (2.8.2)\r\n",
      "Requirement already satisfied: setuptools>=21.0.0 in /home/nhnacademy/anaconda3/lib/python3.9/site-packages (from influxdb_client) (68.0.0)\r\n",
      "Requirement already satisfied: urllib3>=1.26.0 in /home/nhnacademy/anaconda3/lib/python3.9/site-packages (from influxdb_client) (1.26.16)\r\n",
      "Requirement already satisfied: six>=1.5 in /home/nhnacademy/anaconda3/lib/python3.9/site-packages (from python-dateutil>=2.5.3->influxdb_client) (1.16.0)\r\n",
      "Requirement already satisfied: typing-extensions<5.0.0,>=4.1.1 in /home/nhnacademy/anaconda3/lib/python3.9/site-packages (from reactivex>=4.0.4->influxdb_client) (4.7.1)\r\n",
      "Note: you may need to restart the kernel to use updated packages.\n"
     ]
    }
   ],
   "execution_count": 2
  },
  {
   "cell_type": "code",
   "id": "9063ec07cd2ed7d",
   "metadata": {
    "ExecuteTime": {
     "end_time": "2024-04-30T07:57:13.858091Z",
     "start_time": "2024-04-30T07:57:13.844604Z"
    }
   },
   "source": [
    "import os\n",
    "import pandas as pd\n",
    "from influxdb_client import InfluxDBClient\n",
    "from datetime import datetime, timedelta\n",
    "\n",
    "# 디바이스 ID와 위치를 매핑\n",
    "location_mapping = {\n",
    "    '24e124126d152919': 'indoor',\n",
    "    '24e124126d152969': 'bottom_right_corner',\n",
    "    '24e124128c067999': 'indoor',\n",
    "    '24e124785c389818': 'bottom_left_corner',\n",
    "    '24e124785c421885': 'top_right_corner'\n",
    "}\n",
    "\n",
    "# InfluxDB 설정 정보\n",
    "url = \"http://133.186.144.22:8086\"\n",
    "token = \"BPJ1pnKvoaov4Tte971t0zpRSTUXNZvrshU7u3UPheAIsBeUJEFfbKjfsZjtwZmugkHJEGRW17lH4bR9ybanNQ==\"\n",
    "org = \"smoothing\"\n",
    "\n",
    "# InfluxDB 클라이언트 생성\n",
    "def create_client(url, token, org):\n",
    "    return InfluxDBClient(url=url, token=token, org=org)\n",
    "\n",
    "# 쿼리 실행 및 DataFrame으로 변환\n",
    "def query_to_dataframe(client, query):\n",
    "    result = client.query_api().query(query=query)\n",
    "    results = []\n",
    "    \n",
    "    for table in result:\n",
    "        for record in table.records:\n",
    "            results.append({\n",
    "                \"time\": record.get_time(),\n",
    "                \"value\": record.get_value(),\n",
    "                \"place\": record.values.get(\"place\"),\n",
    "                \"location\": record.values.get(\"location\"),\n",
    "                \"device\": record.values.get(\"device\")\n",
    "            })\n",
    "    \n",
    "    df = pd.DataFrame(results)\n",
    "    df['time'] = df['time'].astype(str).str.replace(r'\\+00:00$', '', regex=True)\n",
    "    return df\n",
    "\n",
    "# 데이터를 날짜를 지정하여 CSV 파일로 저장\n",
    "def save_csv(df, file_pattern, directory):\n",
    "    # 경로가 존재하는지 확인하고, 없다면 생성\n",
    "    if not os.path.exists(directory):\n",
    "        os.makedirs(directory)\n",
    "        \n",
    "    current_date = datetime.now()\n",
    "    previous_date = current_date - timedelta(days=1)\n",
    "    filename = f\"{directory}{previous_date.strftime(file_pattern)}\"\n",
    "    df.to_csv(filename, index=False)\n",
    "    \n",
    "# 온도 Data에서 'device' 열에 따라 'location' 열을 업데이트    \n",
    "def update_location(df, location_mapping):\n",
    "    df['location'] = df['device'].map(location_mapping)\n",
    "    return df"
   ],
   "outputs": [],
   "execution_count": 4
  },
  {
   "cell_type": "markdown",
   "id": "fc77d40ce74c9c09",
   "metadata": {},
   "source": [
    "### 쿼리 사용하여 조회"
   ]
  },
  {
   "cell_type": "code",
   "id": "aca21c3030b4b504",
   "metadata": {
    "ExecuteTime": {
     "end_time": "2024-04-30T08:04:12.351544Z",
     "start_time": "2024-04-30T08:04:12.291492Z"
    }
   },
   "source": [
    "# 클라이언트 생성 및 쿼리 실행\n",
    "client = create_client(url, token, org)\n",
    "\n",
    "# 전력 조회 Flux 쿼리\n",
    "query_power_data = '''\n",
    "from(bucket: \"powermetrics_data\")\n",
    "  |> range(start: 2024-04-19T00:58:00Z, stop: 2024-04-19T02:00:00Z)\n",
    "  |> filter(fn: (r) => r[\"phase\"] == \"total\")\n",
    "  |> filter(fn: (r) => r[\"location\"] == \"air_conditioner\")\n",
    "  |> filter(fn: (r) => r[\"description\"] == \"w\")\n",
    "  |> aggregateWindow(every: 2m, fn: mean, createEmpty: false)\n",
    "  |> keep(columns: [\"_time\", \"_value\", \"place\", \"location\", \"device\"])\n",
    "'''\n",
    "\n",
    "# CSV 변환\n",
    "df_power = query_to_dataframe(client, query_power_data)\n",
    "print(df_power.head())\n",
    "save_csv(df_power, \"04_26_power_data.csv\", \"f/\")\n",
    "\n",
    "# # 온도 조회 Flux 쿼리\n",
    "# query_temperature_data = '''\n",
    "# import \"date\"\n",
    "# from(bucket: \"environmentalsensors_data\")\n",
    "#   |> range(start: 2024-04-26T00:00:00Z, stop: 2024-04-27T00:00:00Z)\n",
    "#   |> filter(fn: (r) => r[\"measurement\"] == \"temperature\")\n",
    "#   |> filter(fn: (r) => r[\"place\"] == \"class_a\" or r[\"place\"] == \"office\")\n",
    "#   |> aggregateWindow(every: 2m, fn: mean, createEmpty: false)\n",
    "#   |> keep(columns: [\"_time\", \"_value\", \"place\", \"location\", \"device\"])\n",
    "# '''\n",
    "# \n",
    "# # CSV 변환\n",
    "# df_temperature = query_to_dataframe(client, query_temperature_data)\n",
    "# df_temperature_fix = update_location(df_temperature, location_mapping)\n",
    "# print(df_temperature_fix.head())\n",
    "# save_csv(df_temperature_fix, \"04_26_temperature_data.csv\", \"temperature/\")\n",
    "# \n",
    "# # 클라이언트 종료\n",
    "# client.close()\n"
   ],
   "outputs": [
    {
     "name": "stdout",
     "output_type": "stream",
     "text": [
      "                  time  value   place         location     device\n",
      "0  2024-04-19 01:00:00  946.0  office  air_conditioner  gems-3500\n",
      "1  2024-04-19 01:02:00  949.0  office  air_conditioner  gems-3500\n",
      "2  2024-04-19 01:04:00  947.5  office  air_conditioner  gems-3500\n",
      "3  2024-04-19 01:06:00  948.0  office  air_conditioner  gems-3500\n",
      "4  2024-04-19 01:08:00  948.0  office  air_conditioner  gems-3500\n"
     ]
    }
   ],
   "execution_count": 9
  },
  {
   "metadata": {
    "ExecuteTime": {
     "end_time": "2024-04-28T13:29:48.665644Z",
     "start_time": "2024-04-28T13:29:48.578183Z"
    }
   },
   "cell_type": "code",
   "source": [
    "# 클라이언트 생성 및 쿼리 실행\n",
    "client = create_client(url, token, org)\n",
    "\n",
    "# 이산화탄소 조회 Flux 쿼리\n",
    "query_co2_data = '''\n",
    "import \"date\"\n",
    "from(bucket: \"environmentalsensors_data\")\n",
    "  |> range(start: 2024-04-27T00:00:00Z, stop: 2024-04-28T00:00:00Z)\n",
    "  |> filter(fn: (r) => r[\"place\"] == \"class_a\")\n",
    "  |> filter(fn: (r) => r[\"measurement\"] == \"co2\")\n",
    "  |> aggregateWindow(every: 2m, fn: mean, createEmpty: false)\n",
    "  |> keep(columns: [\"_time\", \"_value\", \"place\", \"location\", \"device\"])\n",
    "'''\n",
    "\n",
    "# CSV 변환\n",
    "df_co2 = query_to_dataframe(client, query_co2_data)\n",
    "df_co2_fix = update_location(df_co2, location_mapping)\n",
    "print(df_co2_fix.head())\n",
    "save_csv(df_co2_fix, \"04_27_co2_data.csv\", \"co2/\")\n",
    "\n",
    "# 클라이언트 종료\n",
    "client.close()"
   ],
   "id": "cb3854c3e4e0ad2e",
   "outputs": [
    {
     "name": "stdout",
     "output_type": "stream",
     "text": [
      "                  time  value    place location            device\n",
      "0  2024-04-27 00:02:00  669.0  class_a   indoor  24e124128c067999\n",
      "1  2024-04-27 00:04:00  674.5  class_a   indoor  24e124128c067999\n",
      "2  2024-04-27 00:06:00  684.0  class_a   indoor  24e124128c067999\n",
      "3  2024-04-27 00:08:00  683.5  class_a   indoor  24e124128c067999\n",
      "4  2024-04-27 00:10:00  670.0  class_a   indoor  24e124128c067999\n"
     ]
    }
   ],
   "execution_count": 20
  }
 ],
 "metadata": {
  "kernelspec": {
   "display_name": "smoothing",
   "language": "python",
   "name": "python3"
  },
  "language_info": {
   "codemirror_mode": {
    "name": "ipython",
    "version": 3
   },
   "file_extension": ".py",
   "mimetype": "text/x-python",
   "name": "python",
   "nbconvert_exporter": "python",
   "pygments_lexer": "ipython3",
   "version": "3.9.18"
  }
 },
 "nbformat": 4,
 "nbformat_minor": 5
}
