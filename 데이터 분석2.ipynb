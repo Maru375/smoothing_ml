{
 "cells": [
  {
   "metadata": {},
   "cell_type": "markdown",
   "source": "## 1. 데이터 준비",
   "id": "9f93ec72990b91a5"
  },
  {
   "cell_type": "code",
   "id": "initial_id",
   "metadata": {
    "collapsed": true,
    "ExecuteTime": {
     "end_time": "2024-05-01T07:03:43.802829Z",
     "start_time": "2024-05-01T07:03:41.740689Z"
    }
   },
   "source": "%pip install influxdb_client",
   "outputs": [
    {
     "name": "stdout",
     "output_type": "stream",
     "text": [
      "Requirement already satisfied: influxdb_client in ./anaconda3/lib/python3.9/site-packages (1.42.0)\r\n",
      "Requirement already satisfied: reactivex>=4.0.4 in ./anaconda3/lib/python3.9/site-packages (from influxdb_client) (4.0.4)\r\n",
      "Requirement already satisfied: certifi>=14.05.14 in ./anaconda3/lib/python3.9/site-packages (from influxdb_client) (2024.2.2)\r\n",
      "Requirement already satisfied: python-dateutil>=2.5.3 in ./anaconda3/lib/python3.9/site-packages (from influxdb_client) (2.8.2)\r\n",
      "Requirement already satisfied: setuptools>=21.0.0 in ./anaconda3/lib/python3.9/site-packages (from influxdb_client) (68.0.0)\r\n",
      "Requirement already satisfied: urllib3>=1.26.0 in ./anaconda3/lib/python3.9/site-packages (from influxdb_client) (1.26.16)\r\n",
      "Requirement already satisfied: six>=1.5 in ./anaconda3/lib/python3.9/site-packages (from python-dateutil>=2.5.3->influxdb_client) (1.16.0)\r\n",
      "Requirement already satisfied: typing-extensions<5.0.0,>=4.1.1 in ./anaconda3/lib/python3.9/site-packages (from reactivex>=4.0.4->influxdb_client) (4.7.1)\r\n",
      "Note: you may need to restart the kernel to use updated packages.\n"
     ]
    }
   ],
   "execution_count": 1
  },
  {
   "metadata": {
    "ExecuteTime": {
     "end_time": "2024-05-01T07:03:43.925879Z",
     "start_time": "2024-05-01T07:03:43.806222Z"
    }
   },
   "cell_type": "code",
   "source": [
    "import os\n",
    "import numpy as np\n",
    "import pandas as pd\n",
    "import seaborn as sns\n",
    "import matplotlib as mpl\n",
    "import matplotlib.pyplot as plt\n",
    "from scipy.stats import zscore\n",
    "from datetime import datetime, timedelta\n",
    "from influxdb_client import InfluxDBClient\n",
    "\n",
    "# 한글 폰트 설정\n",
    "mpl.rcParams['font.family'] = 'NanumGothic'\n",
    "mpl.rcParams['axes.unicode_minus'] = False"
   ],
   "id": "3462d99433a608e5",
   "outputs": [],
   "execution_count": 2
  },
  {
   "metadata": {},
   "cell_type": "markdown",
   "source": [
    "## Influx DB 연결 정보 및 장비 위치 매핑\n",
    "InfluxDB에 대한 연결 매개변수를 설정하고 장치 ID를 해당 위치에 매핑하여 데이터 검색을 구성합니다."
   ],
   "id": "ea76e4173eda23c0"
  },
  {
   "metadata": {
    "ExecuteTime": {
     "end_time": "2024-05-01T07:03:43.929243Z",
     "start_time": "2024-05-01T07:03:43.926667Z"
    }
   },
   "cell_type": "code",
   "source": [
    "# InfluxDB 설정 정보\n",
    "url = \"http://133.186.144.22:8086\"\n",
    "token = \"BPJ1pnKvoaov4Tte971t0zpRSTUXNZvrshU7u3UPheAIsBeUJEFfbKjfsZjtwZmugkHJEGRW17lH4bR9ybanNQ==\"\n",
    "org = \"smoothing\"\n",
    "\n",
    "# 디바이스 ID와 위치를 매핑\n",
    "location_mapping = {\n",
    "    '24e124126d152919': 'indoor',\n",
    "    '24e124126d152969': 'bottom_right_corner',\n",
    "    '24e124128c067999': 'indoor',\n",
    "    '24e124785c389818': 'bottom_left_corner',\n",
    "    '24e124785c421885': 'top_right_corner'\n",
    "}"
   ],
   "id": "da682a65e3a3ec9f",
   "outputs": [],
   "execution_count": 3
  },
  {
   "metadata": {},
   "cell_type": "markdown",
   "source": [
    "## 데이터 가져오기\n",
    "사전에 정의된 쿼리를 사용하여 InfluxDB에서 데이터를 검색합니다."
   ],
   "id": "d929f00161898995"
  },
  {
   "metadata": {
    "ExecuteTime": {
     "end_time": "2024-05-01T07:03:43.939908Z",
     "start_time": "2024-05-01T07:03:43.930167Z"
    }
   },
   "cell_type": "code",
   "source": [
    "# InfluxDB 클라이언트 생성\n",
    "def create_client(url, token, org):\n",
    "    return InfluxDBClient(url=url, token=token, org=org)\n",
    "\n",
    "# 쿼리 실행 및 DataFrame으로 변환\n",
    "def query_to_dataframe(client, query):\n",
    "    result = client.query_api().query(query=query)\n",
    "    results = []\n",
    "\n",
    "    for table in result:\n",
    "        for record in table.records:\n",
    "            results.append({\n",
    "                \"time\": record.get_time(),\n",
    "                \"value\": record.get_value(),\n",
    "                \"place\": record.values.get(\"place\"),\n",
    "                \"location\": record.values.get(\"location\"),\n",
    "                \"device\": record.values.get(\"device\")\n",
    "            })\n",
    "\n",
    "    df = pd.DataFrame(results)\n",
    "    df['time'] = df['time'].astype(str).str.replace(r'\\+00:00$', '', regex=True)\n",
    "    return df\n",
    "\n",
    "# 데이터를 날짜를 지정하여 CSV 파일로 저장\n",
    "def save_csv(df, file_pattern, directory):\n",
    "    # 경로가 존재하는지 확인하고, 없다면 생성\n",
    "    if not os.path.exists(directory):\n",
    "        os.makedirs(directory)\n",
    "\n",
    "    current_date = datetime.now()\n",
    "    previous_date = current_date - timedelta(days=1)\n",
    "    filename = f\"{directory}{previous_date.strftime(file_pattern)}\"\n",
    "    df.to_csv(filename, index=False)\n",
    "\n",
    "# Data에서 'device' 열에 따라 'location' 열을 업데이트    \n",
    "def update_location(df, location_mapping):\n",
    "    df['location'] = df['device'].map(location_mapping)\n",
    "    return df"
   ],
   "id": "c6a424e6176d901",
   "outputs": [],
   "execution_count": 4
  },
  {
   "metadata": {},
   "cell_type": "markdown",
   "source": "### 데이터 조회 및 CSV 변환 수행",
   "id": "edbb2342604c0ff7"
  },
  {
   "metadata": {
    "ExecuteTime": {
     "end_time": "2024-05-01T07:04:02.262084Z",
     "start_time": "2024-05-01T07:04:02.124623Z"
    }
   },
   "cell_type": "code",
   "source": [
    "# 클라이언트 생성 및 쿼리 실행\n",
    "client = create_client(url, token, org)\n",
    "\n",
    "# 전력 조회 Flux 쿼리\n",
    "query_power_usage_data = '''\n",
    "import \"date\"\n",
    "from(bucket: \"powermetrics_data\")\n",
    "  |> range(start: date.sub(d: 1d, from: date.truncate(t: now(), unit: 1d)), stop: date.truncate(t: now(), unit: 1d))\n",
    "  |> filter(fn: (r) => r[\"phase\"] == \"kwh\")\n",
    "  |> filter(fn: (r) => r[\"place\"] == \"class_a\")\n",
    "  |> filter(fn: (r) => r[\"description\"] == \"sum\")\n",
    "  |> filter(fn: (r) => r[\"location\"] == \"ac_indoor_unit\" or r[\"location\"] == \"ac_outdoor_unit\")\n",
    "  |> aggregateWindow(every: 2m, fn: mean, createEmpty: false)\n",
    "  |> keep(columns: [\"_time\", \"_value\", \"location\"])\n",
    "'''\n",
    "\n",
    "# CSV 변환\n",
    "df_power_usage = query_to_dataframe(client, query_power_usage_data)\n",
    "save_csv(df_power_usage, \"%m_%d_power_usage_data.csv\", \"power_usage/\")\n",
    "print(df_power_usage.head())"
   ],
   "id": "8e487ffd4a547749",
   "outputs": [
    {
     "name": "stdout",
     "output_type": "stream",
     "text": [
      "                  time  value place        location device\n",
      "0  2024-04-30 00:02:00   38.9  None  ac_indoor_unit   None\n",
      "1  2024-04-30 00:04:00   38.9  None  ac_indoor_unit   None\n",
      "2  2024-04-30 00:06:00   38.9  None  ac_indoor_unit   None\n",
      "3  2024-04-30 00:08:00   38.9  None  ac_indoor_unit   None\n",
      "4  2024-04-30 00:10:00   38.9  None  ac_indoor_unit   None\n"
     ]
    }
   ],
   "execution_count": 6
  }
 ],
 "metadata": {
  "kernelspec": {
   "display_name": "Python 3",
   "language": "python",
   "name": "python3"
  },
  "language_info": {
   "codemirror_mode": {
    "name": "ipython",
    "version": 2
   },
   "file_extension": ".py",
   "mimetype": "text/x-python",
   "name": "python",
   "nbconvert_exporter": "python",
   "pygments_lexer": "ipython2",
   "version": "2.7.6"
  }
 },
 "nbformat": 4,
 "nbformat_minor": 5
}
