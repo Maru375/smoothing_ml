{
 "cells": [
  {
   "cell_type": "code",
   "execution_count": 1,
   "id": "805a9862",
   "metadata": {
    "scrolled": true
   },
   "outputs": [
    {
     "name": "stdout",
     "output_type": "stream",
     "text": [
      "Collecting influxdb_client\n",
      "  Obtaining dependency information for influxdb_client from https://files.pythonhosted.org/packages/de/f7/eaa6664f12134e3b94c69ef070d26d2efbb7885dbe8f1b0e4ccfbec06d05/influxdb_client-1.42.0-py3-none-any.whl.metadata\n",
      "  Downloading influxdb_client-1.42.0-py3-none-any.whl.metadata (64 kB)\n",
      "\u001b[2K     \u001b[38;2;114;156;31m━━━━━━━━━━━━━━━━━━━━━━━━━━━━━━━━━━━━━━━━\u001b[0m \u001b[32m64.8/64.8 kB\u001b[0m \u001b[31m3.8 MB/s\u001b[0m eta \u001b[36m0:00:00\u001b[0m\n",
      "\u001b[?25hCollecting reactivex>=4.0.4 (from influxdb_client)\n",
      "  Obtaining dependency information for reactivex>=4.0.4 from https://files.pythonhosted.org/packages/69/3f/2ed8c1b8fe3fc2ed816ba40554ef703aad8c51700e2606c139fcf9b7f791/reactivex-4.0.4-py3-none-any.whl.metadata\n",
      "  Downloading reactivex-4.0.4-py3-none-any.whl.metadata (5.5 kB)\n",
      "Requirement already satisfied: certifi>=14.05.14 in /home/nhnacademy/anaconda3/lib/python3.9/site-packages (from influxdb_client) (2024.2.2)\n",
      "Requirement already satisfied: python-dateutil>=2.5.3 in /home/nhnacademy/anaconda3/lib/python3.9/site-packages (from influxdb_client) (2.8.2)\n",
      "Requirement already satisfied: setuptools>=21.0.0 in /home/nhnacademy/anaconda3/lib/python3.9/site-packages (from influxdb_client) (68.0.0)\n",
      "Requirement already satisfied: urllib3>=1.26.0 in /home/nhnacademy/anaconda3/lib/python3.9/site-packages (from influxdb_client) (1.26.16)\n",
      "Requirement already satisfied: six>=1.5 in /home/nhnacademy/anaconda3/lib/python3.9/site-packages (from python-dateutil>=2.5.3->influxdb_client) (1.16.0)\n",
      "Requirement already satisfied: typing-extensions<5.0.0,>=4.1.1 in /home/nhnacademy/anaconda3/lib/python3.9/site-packages (from reactivex>=4.0.4->influxdb_client) (4.7.1)\n",
      "Downloading influxdb_client-1.42.0-py3-none-any.whl (744 kB)\n",
      "\u001b[2K   \u001b[38;2;114;156;31m━━━━━━━━━━━━━━━━━━━━━━━━━━━━━━━━━━━━━━━━\u001b[0m \u001b[32m744.6/744.6 kB\u001b[0m \u001b[31m17.0 MB/s\u001b[0m eta \u001b[36m0:00:00\u001b[0mm eta \u001b[36m0:00:01\u001b[0m\n",
      "\u001b[?25hDownloading reactivex-4.0.4-py3-none-any.whl (217 kB)\n",
      "\u001b[2K   \u001b[38;2;114;156;31m━━━━━━━━━━━━━━━━━━━━━━━━━━━━━━━━━━━━━━━━\u001b[0m \u001b[32m217.8/217.8 kB\u001b[0m \u001b[31m38.2 MB/s\u001b[0m eta \u001b[36m0:00:00\u001b[0m\n",
      "\u001b[?25hInstalling collected packages: reactivex, influxdb_client\n",
      "Successfully installed influxdb_client-1.42.0 reactivex-4.0.4\n"
     ]
    }
   ],
   "source": [
    "!pip install influxdb_client"
   ]
  },
  {
   "cell_type": "markdown",
   "id": "9c240c32",
   "metadata": {},
   "source": [
    "### 공통 환경 처리"
   ]
  },
  {
   "cell_type": "code",
   "execution_count": 32,
   "id": "dc6c2820",
   "metadata": {},
   "outputs": [],
   "source": [
    "import os\n",
    "import pandas as pd\n",
    "from influxdb_client import InfluxDBClient\n",
    "from datetime import datetime, timedelta\n",
    "\n",
    "# InfluxDB 설정 정보\n",
    "url = \"http://133.186.144.22:8086\"\n",
    "token = \"BPJ1pnKvoaov4Tte971t0zpRSTUXNZvrshU7u3UPheAIsBeUJEFfbKjfsZjtwZmugkHJEGRW17lH4bR9ybanNQ==\"\n",
    "org = \"smoothing\"\n",
    "\n",
    "# 디바이스 ID와 위치를 매핑한 사전\n",
    "location_mapping = {\n",
    "    '24e124126d152919': 'indoor',\n",
    "    '24e124126d152969': 'bottom_right_corner',\n",
    "    '24e124128c067999': 'indoor',\n",
    "    '24e124785c389818': 'bottom_left_corner',\n",
    "    '24e124785c421885': 'top_right_corner'\n",
    "}\n",
    "\n",
    "# InfluxDB 클라이언트 생성\n",
    "def create_client(url, token, org):\n",
    "    return InfluxDBClient(url=url, token=token, org=org)\n",
    "\n",
    "# 쿼리 실행 및 DataFrame으로 변환\n",
    "def query_to_dataframe(client, query):\n",
    "    result = client.query_api().query(query=query)\n",
    "    results = []\n",
    "    \n",
    "    for table in result:\n",
    "        for record in table.records:\n",
    "            results.append({\n",
    "                \"time\": record.get_time(),\n",
    "                \"value\": record.get_value(),\n",
    "                \"place\": record.values.get(\"place\"),\n",
    "                \"location\": record.values.get(\"location\"),\n",
    "                \"device\": record.values.get(\"device\")\n",
    "            })\n",
    "    \n",
    "    df = pd.DataFrame(results)\n",
    "    df['time'] = df['time'].astype(str).str.replace(r'\\+00:00$', '', regex=True)\n",
    "    return df\n",
    "\n",
    "# 데이터를 CSV 파일로 저장 (상대 경로 사용)\n",
    "def save_csv(df, file_pattern, directory):\n",
    "    # 경로가 존재하는지 확인하고, 없다면 생성\n",
    "    if not os.path.exists(directory):\n",
    "        os.makedirs(directory)\n",
    "        \n",
    "    current_date = datetime.now()\n",
    "    previous_date = current_date - timedelta(days=1)\n",
    "    filename = f\"{directory}{previous_date.strftime(file_pattern)}\"\n",
    "    df.to_csv(filename, index=False)\n",
    "    \n",
    "# 온도 Data에서 'device' 열에 따라 'location' 열을 업데이트    \n",
    "def update_location(df_environmental, location_mapping):\n",
    "    df['location'] = df['device'].map(location_mapping)\n",
    "    return df"
   ]
  },
  {
   "cell_type": "markdown",
   "id": "99a6125d",
   "metadata": {},
   "source": [
    "### 각 데이터 조회 및 CSV변환"
   ]
  },
  {
   "cell_type": "code",
   "execution_count": 33,
   "id": "ade0ad4b",
   "metadata": {
    "scrolled": true
   },
   "outputs": [
    {
     "name": "stdout",
     "output_type": "stream",
     "text": [
      "                  time  value   place   location     device\n",
      "0  2024-04-20 00:01:00   24.0  office  a_project  gems-3500\n",
      "1  2024-04-20 00:02:00   26.0  office  a_project  gems-3500\n",
      "2  2024-04-20 00:03:00   26.0  office  a_project  gems-3500\n",
      "3  2024-04-20 00:04:00   26.0  office  a_project  gems-3500\n",
      "4  2024-04-20 00:05:00   26.0  office  a_project  gems-3500\n",
      "                  time  value   place location            device\n",
      "0  2024-04-14 08:21:00   24.6  office   indoor  24e124126d152919\n",
      "1  2024-04-14 08:23:00   24.7  office   indoor  24e124126d152919\n",
      "2  2024-04-14 08:25:00   24.6  office   indoor  24e124126d152919\n",
      "3  2024-04-14 08:27:00   24.6  office   indoor  24e124126d152919\n",
      "4  2024-04-14 08:29:00   24.6  office   indoor  24e124126d152919\n"
     ]
    }
   ],
   "source": [
    "# 클라이언트 생성 및 쿼리 실행\n",
    "client = create_client(url, token, org)\n",
    "\n",
    "# 전력 조회 Flux 쿼리\n",
    "query_powermetrics = '''\n",
    "import \"date\"\n",
    "\n",
    "from(bucket: \"powermetrics_data\")\n",
    "  |> range(start: date.sub(d: 1d, from: date.truncate(t: now(), unit: 1d)), stop: date.truncate(t: now(), unit: 1d))\n",
    "  |> filter(fn: (r) => r[\"phase\"] == \"total\")\n",
    "  |> filter(fn: (r) => r[\"description\"] == \"w\")\n",
    "  |> filter(fn: (r) => r[\"place\"] == \"class_a\" or r[\"place\"] == \"office\")\n",
    "  |> filter(fn: (r) => r[\"location\"] != \"main\")\n",
    "  |> aggregateWindow(every: 1m, fn: last, createEmpty: false)\n",
    "  |> keep(columns: [\"_time\", \"_value\", \"place\", \"location\", \"device\"])\n",
    "'''\n",
    "\n",
    "# CSV 변환\n",
    "df_powermetrics = query_to_dataframe(client, query_powermetrics)\n",
    "print(df_powermetrics.head())\n",
    "save_csv(df_powermetrics, \"%m_%d_powermetrics_data.csv\", \"powermetrics/\")\n",
    "\n",
    "\n",
    "# 온도 조회 Flux 쿼리\n",
    "query_environmental = '''\n",
    "import \"date\"\n",
    "from(bucket: \"environmentalsensors_data\")\n",
    "  |> range(start: date.sub(d: 1d, from: date.truncate(t: now(), unit: 1d)), stop: date.truncate(t: now(), unit: 1d))\n",
    "  |> filter(fn: (r) => r[\"measurement\"] == \"temperature\")\n",
    "  |> filter(fn: (r) => r[\"place\"] == \"class_a\" or r[\"place\"] == \"office\")\n",
    "  |> aggregateWindow(every: 1m, fn: last, createEmpty: false)\n",
    "  |> keep(columns: [\"_time\", \"_value\", \"place\", \"location\", \"device\"])\n",
    "'''\n",
    "\n",
    "# CSV 변환\n",
    "df_environmental = query_to_dataframe(client, query_environmental)\n",
    "df_environmental_fix = update_location(df_environmental, location_mapping)\n",
    "print(df_environmental_fix.head())\n",
    "save_csv(df_environmental_fix, \"%m_%d_environmentalsensors_data.csv\", \"environmentalsensors/\")\n",
    "\n",
    "# 클라이언트 종료\n",
    "client.close()"
   ]
  },
  {
   "cell_type": "markdown",
   "id": "c5b65c06",
   "metadata": {},
   "source": [
    "### 기존 파일 location 업데이트"
   ]
  },
  {
   "cell_type": "code",
   "execution_count": 31,
   "id": "e696369d",
   "metadata": {},
   "outputs": [
    {
     "name": "stdout",
     "output_type": "stream",
     "text": [
      "                     time  value    place          location            device\n",
      "0     2024-04-14 08:21:00   24.6   office            indoor  24e124126d152919\n",
      "1     2024-04-14 08:23:00   24.7   office            indoor  24e124126d152919\n",
      "2     2024-04-14 08:25:00   24.6   office            indoor  24e124126d152919\n",
      "3     2024-04-14 08:27:00   24.6   office            indoor  24e124126d152919\n",
      "4     2024-04-14 08:29:00   24.6   office            indoor  24e124126d152919\n",
      "...                   ...    ...      ...               ...               ...\n",
      "3720  2024-04-14 23:56:00   23.4  class_a  top_right_corner  24e124785c421885\n",
      "3721  2024-04-14 23:57:00   23.4  class_a  top_right_corner  24e124785c421885\n",
      "3722  2024-04-14 23:58:00   23.4  class_a  top_right_corner  24e124785c421885\n",
      "3723  2024-04-14 23:59:00   23.4  class_a  top_right_corner  24e124785c421885\n",
      "3724  2024-04-15 00:00:00   23.4  class_a  top_right_corner  24e124785c421885\n",
      "\n",
      "[3725 rows x 5 columns]\n"
     ]
    }
   ],
   "source": [
    "# CSV 파일 경로\n",
    "file_path = 'environmentalsensors/04_14_environmentalsensors_data.csv'\n",
    "\n",
    "# CSV 파일 읽기\n",
    "df = pd.read_csv(file_path)\n",
    "\n",
    "# 디바이스 ID와 위치를 매핑한 사전\n",
    "location_mapping = {\n",
    "    '24e124126d152919': 'indoor',\n",
    "    '24e124126d152969': 'bottom_right_corner',\n",
    "    '24e124128c067999': 'indoor',\n",
    "    '24e124785c389818': 'bottom_left_corner',\n",
    "    '24e124785c421885': 'top_right_corner'\n",
    "}\n",
    "\n",
    "# 'device' 열에 따라 'location' 열을 업데이트합니다.\n",
    "df['location'] = df['device'].map(location_mapping)\n",
    "\n",
    "print(df)"
   ]
  }
 ],
 "metadata": {
  "kernelspec": {
   "display_name": "Python 3 (ipykernel)",
   "language": "python",
   "name": "python3"
  },
  "language_info": {
   "codemirror_mode": {
    "name": "ipython",
    "version": 3
   },
   "file_extension": ".py",
   "mimetype": "text/x-python",
   "name": "python",
   "nbconvert_exporter": "python",
   "pygments_lexer": "ipython3",
   "version": "3.9.18"
  }
 },
 "nbformat": 4,
 "nbformat_minor": 5
}
