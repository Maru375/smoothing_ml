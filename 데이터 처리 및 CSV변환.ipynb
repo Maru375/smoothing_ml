{
 "cells": [
  {
   "cell_type": "markdown",
   "id": "84806715",
   "metadata": {},
   "source": "> # 공통 환경 처리"
  },
  {
   "cell_type": "code",
   "id": "b16400a0",
   "metadata": {
    "ExecuteTime": {
     "end_time": "2024-04-28T06:26:43.502511Z",
     "start_time": "2024-04-28T06:26:31.616875Z"
    }
   },
   "source": [
    "%pip install influxdb_client"
   ],
   "outputs": [
    {
     "name": "stdout",
     "output_type": "stream",
     "text": [
      "Requirement already satisfied: influxdb_client in /opt/anaconda3/lib/python3.11/site-packages (1.42.0)\r\n",
      "Requirement already satisfied: reactivex>=4.0.4 in /opt/anaconda3/lib/python3.11/site-packages (from influxdb_client) (4.0.4)\r\n",
      "Requirement already satisfied: certifi>=14.05.14 in /opt/anaconda3/lib/python3.11/site-packages (from influxdb_client) (2024.2.2)\r\n",
      "Requirement already satisfied: python-dateutil>=2.5.3 in /opt/anaconda3/lib/python3.11/site-packages (from influxdb_client) (2.8.2)\r\n",
      "Requirement already satisfied: setuptools>=21.0.0 in /opt/anaconda3/lib/python3.11/site-packages (from influxdb_client) (68.2.2)\r\n",
      "Requirement already satisfied: urllib3>=1.26.0 in /opt/anaconda3/lib/python3.11/site-packages (from influxdb_client) (2.0.7)\r\n",
      "Requirement already satisfied: six>=1.5 in /opt/anaconda3/lib/python3.11/site-packages (from python-dateutil>=2.5.3->influxdb_client) (1.16.0)\r\n",
      "Requirement already satisfied: typing-extensions<5.0.0,>=4.1.1 in /opt/anaconda3/lib/python3.11/site-packages (from reactivex>=4.0.4->influxdb_client) (4.9.0)\r\n",
      "Note: you may need to restart the kernel to use updated packages.\n"
     ]
    }
   ],
   "execution_count": 10
  },
  {
   "cell_type": "code",
   "id": "46e54772",
   "metadata": {
    "ExecuteTime": {
     "end_time": "2024-04-28T06:26:43.530424Z",
     "start_time": "2024-04-28T06:26:43.511274Z"
    }
   },
   "source": [
    "import os\n",
    "import pandas as pd\n",
    "import glob\n",
    "from influxdb_client import InfluxDBClient\n",
    "from datetime import datetime, timedelta\n",
    "import matplotlib as mpl\n",
    "\n",
    "# 한글 폰트 설정\n",
    "mpl.rcParams['font.family'] = 'NanumGothic'\n",
    "mpl.rcParams['axes.unicode_minus'] = False"
   ],
   "outputs": [],
   "execution_count": 11
  },
  {
   "metadata": {},
   "cell_type": "markdown",
   "source": [
    "> # 연결정보 및 기기 위치 매핑\n",
    "\n",
    "### Influx DB 접속 정보 및 장치 위치 맵핑 정보\n",
    "\n",
    "InfluxDB에 대한 연결 매개변수를 설정하고 장치 ID를 해당 위치에 매핑하여 데이터 검색을 구성합니다."
   ],
   "id": "c6c3a3b4f5ea98a2"
  },
  {
   "metadata": {
    "ExecuteTime": {
     "end_time": "2024-04-28T06:26:43.548411Z",
     "start_time": "2024-04-28T06:26:43.535984Z"
    }
   },
   "cell_type": "code",
   "source": [
    "# InfluxDB 설정 정보\n",
    "url = \"http://133.186.144.22:8086\"\n",
    "token = \"BPJ1pnKvoaov4Tte971t0zpRSTUXNZvrshU7u3UPheAIsBeUJEFfbKjfsZjtwZmugkHJEGRW17lH4bR9ybanNQ==\"\n",
    "org = \"smoothing\"\n",
    "\n",
    "# 디바이스 ID와 위치를 매핑\n",
    "location_mapping = {\n",
    "    '24e124126d152919': 'indoor',\n",
    "    '24e124126d152969': 'bottom_right_corner',\n",
    "    '24e124128c067999': 'indoor',\n",
    "    '24e124785c389818': 'bottom_left_corner',\n",
    "    '24e124785c421885': 'top_right_corner'\n",
    "}"
   ],
   "id": "f7fb2f9922864375",
   "outputs": [],
   "execution_count": 12
  },
  {
   "cell_type": "markdown",
   "id": "7f08064d",
   "metadata": {},
   "source": [
    "> # 데이터 집계 기능\n",
    "\n",
    "InfluxDB에서 데이터를 가져와 사용 가능한 형식으로 변환하고 추가 분석을 위해 결과를 저장하는 기능 및 프로세스입니다."
   ]
  },
  {
   "metadata": {},
   "cell_type": "markdown",
   "source": [
    "## 데이터 가져오기\n",
    "사전에 정의된 쿼리 기반으로 InfluxDB에서 데이터를 검색하고 Pandas DataFrame로 구성\n",
    "\n",
    "influx DB에서 데이터를 받아와 Time, Value, Place, Location, Device 컬럼 형태로 지정하였습니다.\n",
    " \n",
    "데이터 종류는 전력데이터와 온도데이터를 받아 데이터 분석을 할 것 입니다."
   ],
   "id": "16c89731a4b83f08"
  },
  {
   "cell_type": "code",
   "id": "83c508c9",
   "metadata": {
    "ExecuteTime": {
     "end_time": "2024-04-28T06:26:43.589078Z",
     "start_time": "2024-04-28T06:26:43.564183Z"
    }
   },
   "source": [
    "# InfluxDB 클라이언트 생성\n",
    "def create_client(url, token, org):\n",
    "    return InfluxDBClient(url=url, token=token, org=org)\n",
    "\n",
    "# 쿼리 실행 및 DataFrame으로 변환\n",
    "def query_to_dataframe(client, query):\n",
    "    result = client.query_api().query(query=query)\n",
    "    results = []\n",
    "    \n",
    "    for table in result:\n",
    "        for record in table.records:\n",
    "            results.append({\n",
    "                \"time\": record.get_time(),\n",
    "                \"value\": record.get_value(),\n",
    "                \"place\": record.values.get(\"place\"),\n",
    "                \"location\": record.values.get(\"location\"),\n",
    "                \"device\": record.values.get(\"device\")\n",
    "            })\n",
    "    \n",
    "    df = pd.DataFrame(results)\n",
    "    df['time'] = df['time'].astype(str).str.replace(r'\\+00:00$', '', regex=True)\n",
    "    return df\n",
    "\n",
    "# 데이터를 날짜를 지정하여 CSV 파일로 저장\n",
    "def save_csv(df, file_pattern, directory):\n",
    "    # 경로가 존재하는지 확인하고, 없다면 생성\n",
    "    if not os.path.exists(directory):\n",
    "        os.makedirs(directory)\n",
    "        \n",
    "    current_date = datetime.now()\n",
    "    previous_date = current_date - timedelta(days=1)\n",
    "    filename = f\"{directory}{previous_date.strftime(file_pattern)}\"\n",
    "    df.to_csv(filename, index=False)\n",
    "    \n",
    "# 온도 Data에서 'device' 열에 따라 'location' 열을 업데이트    \n",
    "def update_location(df, location_mapping):\n",
    "    df['location'] = df['device'].map(location_mapping)\n",
    "    return df"
   ],
   "outputs": [],
   "execution_count": 13
  },
  {
   "cell_type": "markdown",
   "id": "c90e48ee",
   "metadata": {},
   "source": "### 각 데이터 조회 및 CSV변환 수행"
  },
  {
   "cell_type": "code",
   "id": "de06b4e8",
   "metadata": {
    "scrolled": true,
    "ExecuteTime": {
     "end_time": "2024-04-28T06:26:48.424728Z",
     "start_time": "2024-04-28T06:26:43.592832Z"
    }
   },
   "source": [
    "# 클라이언트 생성 및 쿼리 실행\n",
    "client = create_client(url, token, org)\n",
    "\n",
    "# 전력 조회 Flux 쿼리\n",
    "query_powermetrics = '''\n",
    "import \"date\"\n",
    "\n",
    "from(bucket: \"powermetrics_data\")\n",
    "  |> range(start: date.sub(d: 1d, from: date.truncate(t: now(), unit: 1d)), stop: date.truncate(t: now(), unit: 1d))\n",
    "  |> filter(fn: (r) => r[\"phase\"] == \"total\")\n",
    "  |> filter(fn: (r) => r[\"description\"] == \"w\")\n",
    "  |> filter(fn: (r) => r[\"place\"] == \"class_a\" or r[\"place\"] == \"office\")\n",
    "  |> filter(fn: (r) => r[\"location\"] != \"main\")\n",
    "  |> aggregateWindow(every: 2m, fn: mean, createEmpty: false)\n",
    "  |> keep(columns: [\"_time\", \"_value\", \"place\", \"location\", \"device\"])\n",
    "'''\n",
    "\n",
    "# CSV 변환\n",
    "df_powermetrics = query_to_dataframe(client, query_powermetrics)\n",
    "print(df_powermetrics.head())\n",
    "save_csv(df_powermetrics, \"%m_%d_powermetrics_data.csv\", \"powermetrics/\")\n",
    "\n",
    "\n",
    "# 온도 조회 Flux 쿼리\n",
    "query_environmental = '''\n",
    "import \"date\"\n",
    "from(bucket: \"environmentalsensors_data\")\n",
    "  |> range(start: date.sub(d: 1d, from: date.truncate(t: now(), unit: 1d)), stop: date.truncate(t: now(), unit: 1d))\n",
    "  |> filter(fn: (r) => r[\"measurement\"] == \"temperature\")\n",
    "  |> filter(fn: (r) => r[\"place\"] == \"class_a\" or r[\"place\"] == \"office\")\n",
    "  |> aggregateWindow(every: 2m, fn: mean, createEmpty: false)\n",
    "  |> keep(columns: [\"_time\", \"_value\", \"place\", \"location\", \"device\"])\n",
    "'''\n",
    "\n",
    "# CSV 변환\n",
    "df_environmental = query_to_dataframe(client, query_environmental)\n",
    "df_environmental_fix = update_location(df_environmental, location_mapping)\n",
    "print(df_environmental_fix.head())\n",
    "save_csv(df_environmental_fix, \"%m_%d_environmentalsensors_data.csv\", \"environmentalsensors/\")\n",
    "\n",
    "# 클라이언트 종료\n",
    "client.close()"
   ],
   "outputs": [
    {
     "name": "stdout",
     "output_type": "stream",
     "text": [
      "                  time  value   place   location     device\n",
      "0  2024-04-27 00:02:00   29.5  office  a_project  gems-3500\n",
      "1  2024-04-27 00:04:00   28.0  office  a_project  gems-3500\n",
      "2  2024-04-27 00:06:00   28.0  office  a_project  gems-3500\n",
      "3  2024-04-27 00:08:00   28.0  office  a_project  gems-3500\n",
      "4  2024-04-27 00:10:00   28.0  office  a_project  gems-3500\n",
      "                  time  value   place location            device\n",
      "0  2024-04-27 00:02:00   24.2  office   indoor  24e124126d152919\n",
      "1  2024-04-27 00:04:00   24.3  office   indoor  24e124126d152919\n",
      "2  2024-04-27 00:06:00   24.3  office   indoor  24e124126d152919\n",
      "3  2024-04-27 00:08:00   24.4  office   indoor  24e124126d152919\n",
      "4  2024-04-27 00:10:00   24.4  office   indoor  24e124126d152919\n"
     ]
    }
   ],
   "execution_count": 14
  },
  {
   "metadata": {},
   "cell_type": "markdown",
   "source": "> # 데이터 전처리",
   "id": "8cb9999c8f3aa739"
  },
  {
   "metadata": {},
   "cell_type": "markdown",
   "source": [
    "데이터 전처리를 위해 결측치 제거와 이상치 제거를 할 것이다.\n",
    "\n",
    "온도데이터와, 전력데이터 빈값이 있을 수 있으므로 결측치를 제거한다.\n",
    "\n",
    "이상치는 어떠한 것을 위해 제거한다."
   ],
   "id": "ef66dd972c0c777f"
  },
  {
   "cell_type": "markdown",
   "id": "acfcf9407e5143bc",
   "metadata": {},
   "source": "### 전체 데이터 병합 및 결측치 처리 함수"
  },
  {
   "cell_type": "code",
   "id": "b7f609080cfb5ae6",
   "metadata": {
    "ExecuteTime": {
     "end_time": "2024-04-28T06:26:48.442849Z",
     "start_time": "2024-04-28T06:26:48.427458Z"
    }
   },
   "source": [
    "# 전체 데이터 병합\n",
    "def merge_data(directory_path, file_name):\n",
    "    # 디렉토리 내의 모든 CSV 파일 목록을 생성\n",
    "    csv_files = [file for file in os.listdir(directory_path) if file.endswith('.csv')]\n",
    "\n",
    "    # 모든 CSV 파일을 데이터 프레임으로 읽어와 하나로 병합\n",
    "    data_frames = []\n",
    "    for file in csv_files:\n",
    "        file_path = os.path.join(directory_path, file)\n",
    "        df = pd.read_csv(file_path)\n",
    "        df['time'] = pd.to_datetime(df['time'])\n",
    "        data_frames.append(df)\n",
    "\n",
    "    # 모든 데이터 프레임을 하나로 병합\n",
    "    merged_df = pd.concat(data_frames, ignore_index=True)\n",
    "\n",
    "    # 원하는 컬럼만 선택\n",
    "    columns_to_keep = ['time', 'value', 'place', 'location']\n",
    "    filtered_df = merged_df[columns_to_keep]\n",
    "\n",
    "    # 'place', 'time'으로 정렬\n",
    "    sorted_df = filtered_df.sort_values(['place', 'time'])\n",
    "\n",
    "    # 결과 데이터 프레임을 CSV 파일로 저장\n",
    "    sorted_df.to_csv(file_name, index=False)\n",
    "\n",
    "    return sorted_df\n",
    "\n",
    "# 결측치 확인 및 처리\n",
    "def load_and_clean_data(df, output_directory_path, file_name):\n",
    "    # 요약 사전 초기화\n",
    "    file_summary = {}\n",
    "\n",
    "    # 데이터프레임의 초기 형태 저장\n",
    "    initial_shape = df.shape\n",
    "\n",
    "    # 정리 전 총 결측치 수 계산\n",
    "    missing_before = df.isnull().sum().sum()\n",
    "\n",
    "    # 결측치 제거\n",
    "    df.dropna(inplace=True)\n",
    "\n",
    "    # 정리 후 결측치가 제거되었는지 확인하기 위해 결측치 수 다시 계산\n",
    "    missing_after = df.isnull().sum().sum()\n",
    "\n",
    "    # 요약 사전 업데이트\n",
    "    file_summary[\"file\"] = file_name\n",
    "    file_summary[\"initial_rows\"] = initial_shape[0]\n",
    "    file_summary[\"final_rows\"] = df.shape[0]\n",
    "    file_summary[\"missing_removed\"] = missing_before - missing_after\n",
    "\n",
    "    # 출력 디렉토리가 존재하지 않는 경우 생성\n",
    "    if not os.path.exists(output_directory_path):\n",
    "        os.makedirs(output_directory_path)\n",
    "\n",
    "    # 출력 파일 경로 구성\n",
    "    output_file_path = os.path.join(output_directory_path, f\"{file_name}_cleaned.csv\")\n",
    "\n",
    "    # 정리된 데이터프레임을 CSV로 저장\n",
    "    df.to_csv(output_file_path, index=False)\n",
    "\n",
    "    # 처리 결과 요약 출력\n",
    "    print(\"\\n--- 처리 결과 요약 ---\\n\")\n",
    "    print(f\"파일 이름: {file_summary['file']}, 초기 행 수: {file_summary['initial_rows']}, 최종 행 수: {file_summary['final_rows']}, 제거된 결측치 수: {file_summary['missing_removed']}\")\n",
    "    print(\"\")"
   ],
   "outputs": [],
   "execution_count": 15
  },
  {
   "metadata": {},
   "cell_type": "markdown",
   "source": "### 각 데이터 병합 수행 및 결측치 처리",
   "id": "ca053631c38ed7f3"
  },
  {
   "metadata": {
    "ExecuteTime": {
     "end_time": "2024-04-28T06:26:52.487394Z",
     "start_time": "2024-04-28T06:26:48.445081Z"
    }
   },
   "cell_type": "code",
   "source": [
    "powermetrics_path = 'powermetrics'\n",
    "file_name = 'powermetrics_stats.csv'\n",
    "stats_values_df = merge_data(powermetrics_path, file_name)\n",
    "print(stats_values_df.head())\n",
    "load_and_clean_data(stats_values_df, \"cleaned_data/powermetrics/\", \"powermetrics_stats\")\n",
    "\n",
    "environmentalsensors_path = 'environmentalsensors'\n",
    "file_name = 'environmentalsensors_stats.csv'\n",
    "stats_values_df = merge_data(environmentalsensors_path, file_name)\n",
    "print(stats_values_df.head())\n",
    "load_and_clean_data(stats_values_df, \"cleaned_data/environmentalsensors/\", \"environmentalsensors_stats\")"
   ],
   "id": "fd4ce04992e75141",
   "outputs": [
    {
     "name": "stdout",
     "output_type": "stream",
     "text": [
      "                     time  value    place                 location\n",
      "1440  2024-04-15 00:02:00   23.5  class_a           ac_indoor_unit\n",
      "2880  2024-04-15 00:02:00  112.5  class_a          ac_outdoor_unit\n",
      "5040  2024-04-15 00:02:00    8.0  class_a           automatic_door\n",
      "14400 2024-04-15 00:02:00    0.0  class_a  outdoor_unit_room_light\n",
      "1441  2024-04-15 00:04:00   23.5  class_a           ac_indoor_unit\n",
      "\n",
      "--- 처리 결과 요약 ---\n",
      "\n",
      "파일 이름: powermetrics_stats, 초기 행 수: 232896, 최종 행 수: 232896, 제거된 결측치 수: 0\n",
      "\n",
      "                     time  value    place             location\n",
      "23937 2024-04-15 00:02:00  23.10  class_a  bottom_right_corner\n",
      "24643 2024-04-15 00:02:00  23.85  class_a               indoor\n",
      "25363 2024-04-15 00:02:00  23.50  class_a   bottom_left_corner\n",
      "26083 2024-04-15 00:02:00  23.40  class_a     top_right_corner\n",
      "23938 2024-04-15 00:04:00  23.20  class_a  bottom_right_corner\n",
      "\n",
      "--- 처리 결과 요약 ---\n",
      "\n",
      "파일 이름: environmentalsensors_stats, 초기 행 수: 35366, 최종 행 수: 35366, 제거된 결측치 수: 0\n",
      "\n"
     ]
    }
   ],
   "execution_count": 16
  },
  {
   "metadata": {},
   "cell_type": "markdown",
   "source": "> ### 전력, 온도 데이터의 연관 관계 측정",
   "id": "5bec7fffafe4915c"
  },
  {
   "metadata": {},
   "cell_type": "markdown",
   "source": [
    "전력과 온도 데이터를 가지고 연관관계를 측정 해볼 하여 수치가 얼마나 나오는지 확인 해볼 것입니다.\n",
    "\n",
    "조건은 평균 전력 사용량과 평균 온도를 계산하여 두 데이터 프레임을 시간대 기준으로 결합하여 상관관계에 대해 수치를 나타내 확인 해보니 아래와 같이 결과 수치가 나왔다는 것을 볼 수 있습니다.\n",
    "\n",
    "아래 결과 수치를 보니 연관성이 있다는 것을 확인 할 수 있습니다."
   ],
   "id": "56f9f1840012584a"
  },
  {
   "cell_type": "code",
   "id": "06b104c9",
   "metadata": {
    "ExecuteTime": {
     "end_time": "2024-04-28T06:26:52.967227Z",
     "start_time": "2024-04-28T06:26:52.491838Z"
    }
   },
   "source": [
    "# 전력 사용량 데이터와 환경 센서 데이터를 로드합니다.\n",
    "environmentalsensors_df = pd.read_csv('cleaned_data/environmentalsensors/environmentalsensors_stats_cleaned.csv')\n",
    "powermetrics_df = pd.read_csv('cleaned_data/powermetrics/powermetrics_stats_cleaned.csv')\n",
    "\n",
    "# 시간대별로 그룹화하여 각 시간대의 평균 전력 사용량을 계산합니다.\n",
    "power_avg = powermetrics_df.groupby('time').value.mean().reset_index(name='avg_power_usage')\n",
    "\n",
    "# 시간대별로 그룹화하여 각 시간대의 평균 온도를 계산합니다.\n",
    "temp_avg = environmentalsensors_df.groupby('time').value.mean().reset_index(name='avg_temperature')\n",
    "\n",
    "# 두 데이터프레임을 시간대(time_hour_min)를 기준으로 결합합니다.\n",
    "combined_data = pd.merge(power_avg, temp_avg, on='time')\n",
    "\n",
    "# 상관관계 계산\n",
    "correlation = combined_data[['avg_power_usage', 'avg_temperature']].corr()\n",
    "\n",
    "# 상관관계 출력\n",
    "print(correlation)"
   ],
   "outputs": [
    {
     "name": "stdout",
     "output_type": "stream",
     "text": [
      "                 avg_power_usage  avg_temperature\n",
      "avg_power_usage         1.000000         0.447963\n",
      "avg_temperature         0.447963         1.000000\n"
     ]
    }
   ],
   "execution_count": 17
  },
  {
   "metadata": {},
   "cell_type": "markdown",
   "source": [
    "> # 데이터 전처리\n",
    "\n",
    "## 집계 및 상관관계 분석\n",
    "데이터를 시간별로 그룹화하고 두 데이터 세트의 평균값을 계산한 후 병합 및 상관 분석을 수행합니다.\n",
    "\n",
    "\n",
    "## IQR VS Z-점수\n",
    "\n",
    "- 이상치 제거를 할 때 IQR, Z-점수 2가지 방법으로 데이터 전처리가 필요하다는 것을 알 수 있었습니다.\n",
    "- 2가지 전처리 방법을 사용하여 가장 최적과 가장 높은 점수가 나온 것으로 선정하였습니다.\n",
    "- 결과 Z-점수가 가장 많이 나왔다는 것을 확인하였고, “Z-점수”를 사용하여 이상치를 제거하기로 결정하였습니다.\n",
    "- Z-점수를 사용 하기 전 이상치 제거 범위를 표준값(**±2.2~±3) 범위를 가지고 이상치를 제거 해볼 것입니다.**\n",
    "- 총 12개 분석 후 결과를 알아보니 가장 점수가 많이 나오고 최적인 2.2로 우리는 이상치 결정을 하기로 하였습니다."
   ],
   "id": "89ea279520e0f34f"
  },
  {
   "metadata": {},
   "cell_type": "markdown",
   "source": "### Z-점수를 사용하여 이상치를 제거한 결과",
   "id": "e6c67d6a3ac40a59"
  },
  {
   "metadata": {
    "ExecuteTime": {
     "end_time": "2024-04-28T06:26:53.336293Z",
     "start_time": "2024-04-28T06:26:52.969749Z"
    }
   },
   "cell_type": "code",
   "source": [
    "import pandas as pd\n",
    "\n",
    "# 전력 사용 데이터와 환경 센서 데이터 로드하기.\n",
    "environmentalsensors_df = pd.read_csv('cleaned_data/environmentalsensors/environmentalsensors_stats_cleaned.csv')\n",
    "powermetrics_df = pd.read_csv('cleaned_data/powermetrics/powermetrics_stats_cleaned.csv')\n",
    "\n",
    "# 이상치 제거 함수 (z-score 사용)\n",
    "def remove_outliers_by_zscore(df, column_name, z_thresh):\n",
    "    # 열의 z-score 계산\n",
    "    df['z_score'] = zscore(df[column_name])\n",
    "    # z-score가 임계값 이내인 데이터만 필터링\n",
    "    return df[df['z_score'].abs() <= z_thresh].drop(columns=['z_score'])\n",
    "\n",
    "# 각 데이터 세트에 z-score 이상치 제거 적용\n",
    "powermetrics_df = remove_outliers_by_zscore(powermetrics_df, 'value', 2.4)\n",
    "environmentalsensors_df = remove_outliers_by_zscore(environmentalsensors_df, 'value', 2.4)\n",
    "\n",
    "# 시간 기간별로 그룹화하고 각 시간 기간에 대한 평균 전력 사용량 계산\n",
    "power_avg = powermetrics_df.groupby('time').value.mean().reset_index(name='avg_power_usage')\n",
    "\n",
    "# 시간 기간별로 그룹화하고 각 시간 기간에 대한 평균 온도 계산\n",
    "temp_avg = environmentalsensors_df.groupby('time').value.mean().reset_index(name='avg_temperature')\n",
    "\n",
    "# 시간대(time_hour_min)를 기준으로 두 데이터 프레임 결합\n",
    "combined_data = pd.merge(power_avg, temp_avg, on='time')\n",
    "\n",
    "# 상관 관계 계산\n",
    "correlation = combined_data[['avg_power_usage', 'avg_temperature']].corr()\n",
    "\n",
    "# 상관계수 출력\n",
    "print(\"온도와 전력 사용 사이의 상관계수는 다음과 같습니다:\")\n",
    "print(correlation)"
   ],
   "id": "b7c4bb7cea510e45",
   "outputs": [
    {
     "ename": "NameError",
     "evalue": "name 'zscore' is not defined",
     "output_type": "error",
     "traceback": [
      "\u001B[0;31m---------------------------------------------------------------------------\u001B[0m",
      "\u001B[0;31mNameError\u001B[0m                                 Traceback (most recent call last)",
      "Cell \u001B[0;32mIn[18], line 15\u001B[0m\n\u001B[1;32m     12\u001B[0m     \u001B[38;5;28;01mreturn\u001B[39;00m df[df[\u001B[38;5;124m'\u001B[39m\u001B[38;5;124mz_score\u001B[39m\u001B[38;5;124m'\u001B[39m]\u001B[38;5;241m.\u001B[39mabs() \u001B[38;5;241m<\u001B[39m\u001B[38;5;241m=\u001B[39m z_thresh]\u001B[38;5;241m.\u001B[39mdrop(columns\u001B[38;5;241m=\u001B[39m[\u001B[38;5;124m'\u001B[39m\u001B[38;5;124mz_score\u001B[39m\u001B[38;5;124m'\u001B[39m])\n\u001B[1;32m     14\u001B[0m \u001B[38;5;66;03m# 각 데이터 세트에 z-score 이상치 제거 적용\u001B[39;00m\n\u001B[0;32m---> 15\u001B[0m powermetrics_df \u001B[38;5;241m=\u001B[39m remove_outliers_by_zscore(powermetrics_df, \u001B[38;5;124m'\u001B[39m\u001B[38;5;124mvalue\u001B[39m\u001B[38;5;124m'\u001B[39m, \u001B[38;5;241m2.4\u001B[39m)\n\u001B[1;32m     16\u001B[0m environmentalsensors_df \u001B[38;5;241m=\u001B[39m remove_outliers_by_zscore(environmentalsensors_df, \u001B[38;5;124m'\u001B[39m\u001B[38;5;124mvalue\u001B[39m\u001B[38;5;124m'\u001B[39m, \u001B[38;5;241m2.4\u001B[39m)\n\u001B[1;32m     18\u001B[0m \u001B[38;5;66;03m# 시간 기간별로 그룹화하고 각 시간 기간에 대한 평균 전력 사용량 계산\u001B[39;00m\n",
      "Cell \u001B[0;32mIn[18], line 10\u001B[0m, in \u001B[0;36mremove_outliers_by_zscore\u001B[0;34m(df, column_name, z_thresh)\u001B[0m\n\u001B[1;32m      8\u001B[0m \u001B[38;5;28;01mdef\u001B[39;00m \u001B[38;5;21mremove_outliers_by_zscore\u001B[39m(df, column_name, z_thresh):\n\u001B[1;32m      9\u001B[0m     \u001B[38;5;66;03m# 열의 z-score 계산\u001B[39;00m\n\u001B[0;32m---> 10\u001B[0m     df[\u001B[38;5;124m'\u001B[39m\u001B[38;5;124mz_score\u001B[39m\u001B[38;5;124m'\u001B[39m] \u001B[38;5;241m=\u001B[39m zscore(df[column_name])\n\u001B[1;32m     11\u001B[0m     \u001B[38;5;66;03m# z-score가 임계값 이내인 데이터만 필터링\u001B[39;00m\n\u001B[1;32m     12\u001B[0m     \u001B[38;5;28;01mreturn\u001B[39;00m df[df[\u001B[38;5;124m'\u001B[39m\u001B[38;5;124mz_score\u001B[39m\u001B[38;5;124m'\u001B[39m]\u001B[38;5;241m.\u001B[39mabs() \u001B[38;5;241m<\u001B[39m\u001B[38;5;241m=\u001B[39m z_thresh]\u001B[38;5;241m.\u001B[39mdrop(columns\u001B[38;5;241m=\u001B[39m[\u001B[38;5;124m'\u001B[39m\u001B[38;5;124mz_score\u001B[39m\u001B[38;5;124m'\u001B[39m])\n",
      "\u001B[0;31mNameError\u001B[0m: name 'zscore' is not defined"
     ]
    }
   ],
   "execution_count": 18
  },
  {
   "metadata": {},
   "cell_type": "markdown",
   "source": [
    "> # 히트맵을 사용한 시각화\n",
    "히트맵을 통해 다양한 Z 점수 임계값이 온도와 전력 사용량 간의 상관 관계에 미치는 영향을 살펴본 결과를 아래에 나타내었습니다."
   ],
   "id": "d2e59d32f9efd2c8"
  },
  {
   "metadata": {},
   "cell_type": "code",
   "source": [
    "import pandas as pd\n",
    "import numpy as np\n",
    "from scipy.stats import zscore\n",
    "import seaborn as sns\n",
    "import matplotlib.pyplot as plt\n",
    "\n",
    "# 데이터 로드\n",
    "environmentalsensors_df = pd.read_csv('cleaned_data/environmentalsensors/environmentalsensors_stats_cleaned.csv')\n",
    "powermetrics_df = pd.read_csv('cleaned_data/powermetrics/powermetrics_stats_cleaned.csv')\n",
    "\n",
    "# 이상치 제거 함수 (z-점수 사용)\n",
    "def remove_outliers_by_zscore(df, column_name, z_thresh):\n",
    "    df['z_score'] = zscore(df[column_name])\n",
    "    return df[np.abs(df['z_score']) <= z_thresh].drop(columns=['z_score'])\n",
    "\n",
    "# 각 데이터 세트에 대한 Z-점수 임계값 범위 지정\n",
    "z_thresh_range_power = np.linspace(2.0, 3.0, 11)\n",
    "z_thresh_range_env = np.linspace(2.0, 3.0, 11)\n",
    "\n",
    "# 상관관계를 저장할 딕셔너리\n",
    "correlation_results = {}\n",
    "\n",
    "# 모든 조합의 z-점수 임계값에 대해 반복\n",
    "for z_power in z_thresh_range_power:\n",
    "    for z_env in z_thresh_range_env:\n",
    "        # 이상치 제거\n",
    "        temp_filtered_df = remove_outliers_by_zscore(environmentalsensors_df, 'value', z_env)\n",
    "        power_filtered_df = remove_outliers_by_zscore(powermetrics_df, 'value', z_power)\n",
    "\n",
    "        # 시간별 그룹으로 평균값 계산\n",
    "        temp_avg = temp_filtered_df.groupby('time').value.mean().reset_index(name='avg_temperature')\n",
    "        power_avg = power_filtered_df.groupby('time').value.mean().reset_index(name='avg_power_usage')\n",
    "\n",
    "        # 데이터 프레임을 시간 기준으로 결합\n",
    "        combined_data = pd.merge(temp_avg, power_avg, on='time')\n",
    "\n",
    "        # 상관관계 계산\n",
    "        correlation = combined_data[['avg_temperature', 'avg_power_usage']].corr().iloc[0, 1]\n",
    "        correlation_results[(z_power, z_env)] = correlation\n",
    "\n",
    "# 히트맵 데이터를 배열로 변환\n",
    "correlation_matrix = np.array([[correlation_results[(z_power, z_env)] for z_env in z_thresh_range_env] for z_power in z_thresh_range_power])\n",
    "\n",
    "# 히트맵 생성\n",
    "plt.figure(figsize=(10, 8))\n",
    "sns.heatmap(correlation_matrix, annot=True, cmap='coolwarm', fmt=\".3f\",\n",
    "            xticklabels=np.round(z_thresh_range_env, 1),\n",
    "            yticklabels=np.round(z_thresh_range_power, 1))\n",
    "plt.title('Z-점수 임계값에 따른 전력 사용량과 온도 사이의 상관 관계')\n",
    "plt.xlabel('환경 Z-점수 임계값')\n",
    "plt.ylabel('전력 Z-점수 임계값')\n",
    "plt.show()"
   ],
   "id": "b3696d0650a552f1",
   "outputs": [],
   "execution_count": null
  },
  {
   "metadata": {},
   "cell_type": "code",
   "source": [
    "# 가장 높은 상관관계 점수 찾기\n",
    "max_correlation_value = max(correlation_results.values())\n",
    "\n",
    "# 해당 상관관계 점수에 해당하는 z-점수 임계값 찾기\n",
    "max_correlation_thresholds = [thresholds for thresholds, correlation in correlation_results.items() if correlation == max_correlation_value]\n",
    "\n",
    "# 결과 출력\n",
    "print(f\"최대 상관관계 점수: {max_correlation_value * 100:.2f}%\")\n",
    "print(f\"해당 점수를 가진 Z-점수 임계값 조합: {max_correlation_thresholds}\")"
   ],
   "id": "6689d70b93008b82",
   "outputs": [],
   "execution_count": null
  }
 ],
 "metadata": {
  "kernelspec": {
   "display_name": "Python 3 (ipykernel)",
   "language": "python",
   "name": "python3"
  },
  "language_info": {
   "codemirror_mode": {
    "name": "ipython",
    "version": 3
   },
   "file_extension": ".py",
   "mimetype": "text/x-python",
   "name": "python",
   "nbconvert_exporter": "python",
   "pygments_lexer": "ipython3",
   "version": "3.9.18"
  }
 },
 "nbformat": 4,
 "nbformat_minor": 5
}
